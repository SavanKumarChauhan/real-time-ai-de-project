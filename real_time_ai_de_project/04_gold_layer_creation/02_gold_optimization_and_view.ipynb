{
 "cells": [
  {
   "cell_type": "code",
   "execution_count": 0,
   "metadata": {
    "application/vnd.databricks.v1+cell": {
     "cellMetadata": {
      "byteLimit": 2048000,
      "rowLimit": 10000
     },
     "inputWidgets": {},
     "nuid": "01c98983-77c2-4caf-a1ae-98a4331907c3",
     "showTitle": false,
     "tableResultSettingsMap": {},
     "title": ""
    }
   },
   "outputs": [],
   "source": [
    "# Read gold data\n",
    "gold_input_path = \"/mnt/realtimedeai/gold/streaming_sales_enriched/\"\n",
    "\n",
    "sales_gold_df = spark.read.format(\"delta\").load(gold_input_path)\n",
    "\n",
    "\n"
   ]
  },
  {
   "cell_type": "code",
   "execution_count": 0,
   "metadata": {
    "application/vnd.databricks.v1+cell": {
     "cellMetadata": {
      "byteLimit": 2048000,
      "rowLimit": 10000
     },
     "inputWidgets": {},
     "nuid": "3a90cd62-c4fa-49d1-a9e8-5cb3cf49c738",
     "showTitle": false,
     "tableResultSettingsMap": {},
     "title": ""
    }
   },
   "outputs": [],
   "source": [
    "# Optimized output location\n",
    "partitioned_output_path = \"/mnt/realtimedeai/gold/streaming_sales_enriched_partitioned/\"\n",
    "\n",
    "# Overwrite with partitioning\n",
    "sales_gold_df.write.format(\"delta\") \\\n",
    "    .mode(\"overwrite\") \\\n",
    "    .partitionBy(\"store_id\") \\\n",
    "    .save(partitioned_output_path)\n",
    "\n",
    "print(\"Partitioned Gold table written successfully!\")\n"
   ]
  },
  {
   "cell_type": "code",
   "execution_count": 0,
   "metadata": {
    "application/vnd.databricks.v1+cell": {
     "cellMetadata": {
      "byteLimit": 2048000,
      "rowLimit": 10000
     },
     "inputWidgets": {},
     "nuid": "8ea7eff6-d888-4ebb-9153-5b4e54d4f2ae",
     "showTitle": false,
     "tableResultSettingsMap": {},
     "title": ""
    }
   },
   "outputs": [],
   "source": [
    "# Register the optimized Delta table as a SQL Table\n",
    "spark.sql(\"\"\"\n",
    "DROP TABLE IF EXISTS streaming_sales_optimized;\n",
    "\"\"\")\n",
    "\n",
    "spark.sql(f\"\"\"\n",
    "CREATE TABLE streaming_sales_optimized\n",
    "USING DELTA\n",
    "LOCATION '{partitioned_output_path}'\n",
    "\"\"\")\n",
    "\n",
    "print(\"Table 'streaming_sales_optimized' registered successfully.\")\n"
   ]
  },
  {
   "cell_type": "code",
   "execution_count": 0,
   "metadata": {
    "application/vnd.databricks.v1+cell": {
     "cellMetadata": {
      "byteLimit": 2048000,
      "rowLimit": 10000
     },
     "inputWidgets": {},
     "nuid": "91b2f558-c938-4a83-ad8a-7dc4da1e936b",
     "showTitle": false,
     "tableResultSettingsMap": {},
     "title": ""
    }
   },
   "outputs": [],
   "source": [
    "spark.sql(\"\"\"\n",
    "OPTIMIZE streaming_sales_optimized\n",
    "ZORDER BY (transaction_time)\n",
    "\"\"\")\n"
   ]
  },
  {
   "cell_type": "code",
   "execution_count": 0,
   "metadata": {
    "application/vnd.databricks.v1+cell": {
     "cellMetadata": {
      "byteLimit": 2048000,
      "rowLimit": 10000
     },
     "inputWidgets": {},
     "nuid": "d5970c37-cd70-4588-a4e2-148913e48180",
     "showTitle": false,
     "tableResultSettingsMap": {},
     "title": ""
    }
   },
   "outputs": [],
   "source": [
    "\n",
    "spark.sql(\"\"\"\n",
    "DROP VIEW IF EXISTS vw_sales_transaction_summary;\n",
    "\"\"\")\n",
    "\n",
    "# Create a view\n",
    "spark.sql(\"\"\"\n",
    "CREATE OR REPLACE VIEW vw_sales_transaction_summary AS\n",
    "SELECT\n",
    "    transaction_id,\n",
    "    product_id,\n",
    "    product_name,\n",
    "    category,\n",
    "    base_price,\n",
    "    quantity_sold,\n",
    "    sale_amount,\n",
    "    transaction_time,\n",
    "    store_id,\n",
    "    store_name,\n",
    "    region,\n",
    "    city,\n",
    "    size\n",
    "FROM streaming_sales_optimized\n",
    "\"\"\")\n",
    "\n",
    "print(\"SQL View 'vw_sales_transaction_summary' created successfully.\")\n"
   ]
  }
 ],
 "metadata": {
  "application/vnd.databricks.v1+notebook": {
   "computePreferences": null,
   "dashboards": [],
   "environmentMetadata": {
    "base_environment": "",
    "environment_version": "2"
   },
   "inputWidgetPreferences": null,
   "language": "python",
   "notebookMetadata": {
    "pythonIndentUnit": 4
   },
   "notebookName": "02_gold_optimization_and_view",
   "widgets": {}
  },
  "language_info": {
   "name": "python"
  }
 },
 "nbformat": 4,
 "nbformat_minor": 0
}
