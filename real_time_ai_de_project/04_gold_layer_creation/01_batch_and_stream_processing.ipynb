{
 "cells": [
  {
   "cell_type": "code",
   "execution_count": 0,
   "metadata": {
    "application/vnd.databricks.v1+cell": {
     "cellMetadata": {
      "byteLimit": 2048000,
      "rowLimit": 10000
     },
     "inputWidgets": {},
     "nuid": "950e7e41-8df0-4391-9873-f7a8d137e46b",
     "showTitle": false,
     "tableResultSettingsMap": {},
     "title": ""
    }
   },
   "outputs": [],
   "source": [
    "\n",
    "# Read Silver Layer Data (Batch + Stream)\n",
    "\n",
    "\n",
    "# Read Streaming Sales Transactions \n",
    "# silver_streaming_sales_path = \"/mnt/realtimedeai/silver/streaming/sales_transactions/\"\n",
    "# streaming_sales_df = spark.read.format(\"delta\").load(silver_streaming_sales_path)\n",
    "# Read Streaming Sales from DLT table\n",
    "streaming_sales_df = spark.read.table(\"streaming_data.streaming_sales\")\n",
    "\n",
    "# Read Batch Products Table \n",
    "silver_products_path = \"/mnt/realtimedeai/silver/batch/products/\"\n",
    "products_df = spark.read.format(\"delta\").load(silver_products_path)\n",
    "\n",
    "# Read Batch Stores Table \n",
    "silver_stores_path = \"/mnt/realtimedeai/silver/batch/stores/\"\n",
    "stores_df = spark.read.format(\"delta\").load(silver_stores_path)\n",
    "\n",
    "# Read Promotions Table \n",
    "silver_promotions_path = \"/mnt/realtimedeai/silver/batch/promotions/\"\n",
    "promotions_df = spark.read.format(\"delta\").load(silver_promotions_path)\n",
    "\n",
    "print(\"Silver tables read successfully!\")\n"
   ]
  },
  {
   "cell_type": "code",
   "execution_count": 0,
   "metadata": {
    "application/vnd.databricks.v1+cell": {
     "cellMetadata": {
      "byteLimit": 2048000,
      "rowLimit": 10000
     },
     "inputWidgets": {},
     "nuid": "6003c4ea-b9f1-49c8-8ffe-b893c65ae54e",
     "showTitle": false,
     "tableResultSettingsMap": {},
     "title": ""
    }
   },
   "outputs": [],
   "source": [
    "\n",
    "# Enrich Streaming Sales with Product Info\n",
    "\n",
    "\n",
    "# 1. Join Streaming Sales with Products\n",
    "sales_with_product_df = (\n",
    "    streaming_sales_df\n",
    "    .join(products_df.withColumnRenamed(\"processed_time\", \"processed_time_products\"), \n",
    "          on=\"product_id\", \n",
    "          how=\"left\")\n",
    ")\n",
    "\n",
    "print(\"Streaming Sales enriched with Product Info!\")\n"
   ]
  },
  {
   "cell_type": "code",
   "execution_count": 0,
   "metadata": {
    "application/vnd.databricks.v1+cell": {
     "cellMetadata": {
      "byteLimit": 2048000,
      "rowLimit": 10000
     },
     "inputWidgets": {},
     "nuid": "739a791b-0104-4f56-ba1a-8a94443fd9f3",
     "showTitle": false,
     "tableResultSettingsMap": {},
     "title": ""
    }
   },
   "outputs": [],
   "source": [
    "\n",
    "#Enrich Sales (Already With Product) with Store Info\n",
    "\n",
    "\n",
    "# Join Sales (already enriched with Product) with Stores\n",
    "sales_enriched_df = (\n",
    "    sales_with_product_df\n",
    "    .join(stores_df.withColumnRenamed(\"processed_time\", \"processed_time_stores\"), \n",
    "          on=\"store_id\", \n",
    "          how=\"left\")\n",
    ")\n",
    "\n",
    "print(\"Streaming Sales further enriched with Store Info!\")\n"
   ]
  },
  {
   "cell_type": "code",
   "execution_count": 0,
   "metadata": {
    "application/vnd.databricks.v1+cell": {
     "cellMetadata": {
      "byteLimit": 2048000,
      "rowLimit": 10000
     },
     "inputWidgets": {},
     "nuid": "eca98690-66b4-4d2d-8129-24b87a0e4444",
     "showTitle": false,
     "tableResultSettingsMap": {},
     "title": ""
    }
   },
   "outputs": [],
   "source": [
    "\n",
    "# Add Business Columns for Gold Layer\n",
    "\n",
    "\n",
    "from pyspark.sql.functions import year, month, dayofmonth, col, round\n",
    "\n",
    "# Add new business columns\n",
    "sales_gold_df = (\n",
    "    sales_enriched_df\n",
    "    .withColumn(\"sale_datetime\", col(\"transaction_time\"))  # For reporting\n",
    "    .withColumn(\"sale_year\", year(col(\"transaction_time\")))\n",
    "    .withColumn(\"sale_month\", month(col(\"transaction_time\")))\n",
    "    .withColumn(\"sale_day\", dayofmonth(col(\"transaction_time\")))\n",
    "    .withColumn(\"total_revenue\", round(col(\"quantity_sold\") * col(\"base_price\"),2))\n",
    "    .drop(\"processed_time_products\",\"processed_time_stores\")\n",
    " \n",
    "    \n",
    ")\n",
    "\n",
    "\n",
    "\n",
    "print(\"Business columns added successfully!\")\n",
    "\n",
    "\n"
   ]
  },
  {
   "cell_type": "code",
   "execution_count": 0,
   "metadata": {
    "application/vnd.databricks.v1+cell": {
     "cellMetadata": {
      "byteLimit": 2048000,
      "rowLimit": 10000
     },
     "inputWidgets": {},
     "nuid": "ed143f73-c1f8-4df6-ab4e-5c1a1cd98426",
     "showTitle": false,
     "tableResultSettingsMap": {},
     "title": ""
    }
   },
   "outputs": [],
   "source": [
    "\n",
    "#Write Final Gold Table (Streaming Enriched Sales)\n",
    "\n",
    "\n",
    "# Define Gold Layer Path\n",
    "gold_output_path = \"/mnt/realtimedeai/gold/streaming_sales_enriched/\"\n",
    "\n",
    "# Write data to Gold (Delta format)\n",
    "(\n",
    "    sales_gold_df\n",
    "    .write\n",
    "    .format(\"delta\")\n",
    "    .mode(\"overwrite\")\n",
    "    .save(gold_output_path)\n",
    ")\n",
    "\n",
    "print(\"Gold table written successfully to:\", gold_output_path)\n"
   ]
  }
 ],
 "metadata": {
  "application/vnd.databricks.v1+notebook": {
   "computePreferences": null,
   "dashboards": [],
   "environmentMetadata": {
    "base_environment": "",
    "environment_version": "2"
   },
   "inputWidgetPreferences": null,
   "language": "python",
   "notebookMetadata": {
    "pythonIndentUnit": 4
   },
   "notebookName": "01_batch_and_stream_processing",
   "widgets": {}
  },
  "language_info": {
   "name": "python"
  }
 },
 "nbformat": 4,
 "nbformat_minor": 0
}
