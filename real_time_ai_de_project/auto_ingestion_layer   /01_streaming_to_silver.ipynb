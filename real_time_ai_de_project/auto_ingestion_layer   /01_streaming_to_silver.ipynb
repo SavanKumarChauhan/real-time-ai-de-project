{
 "cells": [
  {
   "cell_type": "code",
   "execution_count": 0,
   "metadata": {
    "application/vnd.databricks.v1+cell": {
     "cellMetadata": {
      "byteLimit": 2048000,
      "rowLimit": 10000
     },
     "inputWidgets": {},
     "nuid": "8f6bba41-5c88-4ddd-a7fe-62412d8c7700",
     "showTitle": false,
     "tableResultSettingsMap": {},
     "title": ""
    }
   },
   "outputs": [],
   "source": [
    "\n",
    "\n",
    "\n",
    "import dlt\n",
    "from pyspark.sql.types import StructType, StructField, StringType, LongType, DoubleType, TimestampType\n",
    "from pyspark.sql.functions import col, to_timestamp, current_timestamp\n",
    "\n",
    "\n",
    "print(\"Libraries and functions loaded successfully.\")\n"
   ]
  },
  {
   "cell_type": "code",
   "execution_count": 0,
   "metadata": {
    "application/vnd.databricks.v1+cell": {
     "cellMetadata": {
      "byteLimit": 2048000,
      "rowLimit": 10000
     },
     "inputWidgets": {},
     "nuid": "ad6c622e-8ac6-4358-b980-12431727ca32",
     "showTitle": false,
     "tableResultSettingsMap": {},
     "title": ""
    }
   },
   "outputs": [],
   "source": [
    "\n",
    "# Define Streaming Schema (Same as Bronze Data)\n",
    "\n",
    "\n",
    "sales_schema = StructType([\n",
    "    StructField(\"transaction_id\", StringType(), True),\n",
    "    StructField(\"product_id\", LongType(), True),\n",
    "    StructField(\"store_id\", LongType(), True),\n",
    "    StructField(\"quantity_sold\", LongType(), True),\n",
    "    StructField(\"sale_amount\", DoubleType(), True),\n",
    "    StructField(\"transaction_time\", StringType(), True)\n",
    "])\n",
    "\n",
    "print(\"Schema defined successfully.\")\n"
   ]
  },
  {
   "cell_type": "code",
   "execution_count": 0,
   "metadata": {
    "application/vnd.databricks.v1+cell": {
     "cellMetadata": {
      "byteLimit": 2048000,
      "rowLimit": 10000
     },
     "inputWidgets": {},
     "nuid": "7b146426-94d1-49ad-ab39-82d832854670",
     "showTitle": false,
     "tableResultSettingsMap": {},
     "title": ""
    }
   },
   "outputs": [],
   "source": [
    "# Define Paths\n",
    "bronze_streaming_path = \"/mnt/realtimedeai/bronze/streaming/\"\n"
   ]
  },
  {
   "cell_type": "code",
   "execution_count": 0,
   "metadata": {
    "application/vnd.databricks.v1+cell": {
     "cellMetadata": {
      "byteLimit": 2048000,
      "rowLimit": 10000
     },
     "inputWidgets": {},
     "nuid": "fb240672-b319-4b06-ac7b-dd6b828a732e",
     "showTitle": false,
     "tableResultSettingsMap": {},
     "title": ""
    }
   },
   "outputs": [],
   "source": [
    "\n",
    "@dlt.table(\n",
    "    name=\"streaming_sales\",\n",
    "    comment=\"Auto-ingested streaming sales data from Bronze to Silver using DLT\"\n",
    ")\n",
    "def streaming_sales():\n",
    "    # Read and transform streaming data\n",
    "    return (\n",
    "        spark.readStream\n",
    "            .format(\"parquet\")\n",
    "            .schema(sales_schema)\n",
    "            .load(bronze_streaming_path)\n",
    "            .dropDuplicates([\"transaction_id\"])\n",
    "            .filter(\n",
    "                (col(\"quantity_sold\") > 0) &\n",
    "                (col(\"sale_amount\") > 0) &\n",
    "                (col(\"transaction_id\").isNotNull()) &\n",
    "                (col(\"product_id\").isNotNull()) &\n",
    "                (col(\"store_id\").isNotNull())\n",
    "            )\n",
    "            .withColumn(\"transaction_time\", to_timestamp(col(\"transaction_time\"), \"yyyy-MM-dd'T'HH:mm:ss.SSSSSS\"))\n",
    "            .withColumn(\"processed_time\", current_timestamp())\n",
    "    )\n"
   ]
  }
 ],
 "metadata": {
  "application/vnd.databricks.v1+notebook": {
   "computePreferences": null,
   "dashboards": [],
   "environmentMetadata": {
    "base_environment": "",
    "environment_version": "2"
   },
   "inputWidgetPreferences": null,
   "language": "python",
   "notebookMetadata": {
    "pythonIndentUnit": 4
   },
   "notebookName": "01_streaming_to_silver",
   "widgets": {}
  },
  "language_info": {
   "name": "python"
  }
 },
 "nbformat": 4,
 "nbformat_minor": 0
}
