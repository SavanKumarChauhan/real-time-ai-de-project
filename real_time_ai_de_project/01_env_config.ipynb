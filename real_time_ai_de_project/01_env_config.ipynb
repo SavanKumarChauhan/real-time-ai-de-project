{
 "cells": [
  {
   "cell_type": "code",
   "execution_count": 0,
   "metadata": {
    "application/vnd.databricks.v1+cell": {
     "cellMetadata": {
      "byteLimit": 2048000,
      "rowLimit": 10000
     },
     "inputWidgets": {},
     "nuid": "12106ab3-960e-4fae-b864-024553538aed",
     "showTitle": false,
     "tableResultSettingsMap": {},
     "title": ""
    }
   },
   "outputs": [],
   "source": [
    "dbutils.secrets.listScopes()"
   ]
  },
  {
   "cell_type": "code",
   "execution_count": 0,
   "metadata": {
    "application/vnd.databricks.v1+cell": {
     "cellMetadata": {
      "byteLimit": 2048000,
      "rowLimit": 10000
     },
     "inputWidgets": {},
     "nuid": "3609cfb8-2619-4df4-b952-20738f9d2dd9",
     "showTitle": false,
     "tableResultSettingsMap": {},
     "title": ""
    }
   },
   "outputs": [],
   "source": [
    "dbutils.secrets.list(\"adls_scope\")"
   ]
  },
  {
   "cell_type": "code",
   "execution_count": 0,
   "metadata": {
    "application/vnd.databricks.v1+cell": {
     "cellMetadata": {
      "byteLimit": 2048000,
      "rowLimit": 10000
     },
     "inputWidgets": {},
     "nuid": "7e618d3e-fd29-4509-a2b0-478c2c4e68ba",
     "showTitle": false,
     "tableResultSettingsMap": {},
     "title": ""
    }
   },
   "outputs": [],
   "source": [
    "adls_access_key = dbutils.secrets.get(scope=\"adls_scope\", key=\"adls-client-secret\")\n"
   ]
  },
  {
   "cell_type": "code",
   "execution_count": 0,
   "metadata": {
    "application/vnd.databricks.v1+cell": {
     "cellMetadata": {
      "byteLimit": 2048000,
      "rowLimit": 10000
     },
     "inputWidgets": {},
     "nuid": "963b4251-91be-45d0-8a62-938f83ea2cb8",
     "showTitle": false,
     "tableResultSettingsMap": {},
     "title": ""
    }
   },
   "outputs": [],
   "source": [
    "# Mount configuration using Service Principal OAuth\n",
    "configs = {\n",
    "    \"fs.azure.account.auth.type\": \"OAuth\",\n",
    "    \"fs.azure.account.oauth.provider.type\": \"org.apache.hadoop.fs.azurebfs.oauth2.ClientCredsTokenProvider\",\n",
    "    \"fs.azure.account.oauth2.client.id\": \"7c093084-4ea7-481c-9e88-491180b093cd\",  # Replace with your App (Client) ID f\n",
    "    \"fs.azure.account.oauth2.client.secret\": adls_access_key,  # Stored in Key Vault\n",
    "    \"fs.azure.account.oauth2.client.endpoint\": \"https://login.microsoftonline.com/be2fe454-a59e-4bb6-a26a-d8cbf0892c62/oauth2/token\"  # Replace with your Directory (Tenant) ID\n",
    "}\n"
   ]
  },
  {
   "cell_type": "code",
   "execution_count": 0,
   "metadata": {
    "application/vnd.databricks.v1+cell": {
     "cellMetadata": {
      "byteLimit": 2048000,
      "rowLimit": 10000
     },
     "inputWidgets": {},
     "nuid": "7b9c78b2-2842-4c24-b6df-c4b1f3ab54a1",
     "showTitle": false,
     "tableResultSettingsMap": {},
     "title": ""
    }
   },
   "outputs": [],
   "source": [
    "\n",
    "\n",
    "\n",
    "\n",
    "# Unmount if already mounted (avoids errors)\n",
    "try:\n",
    "    dbutils.fs.unmount(\"/mnt/realtimedeai/bronze\")\n",
    "except:\n",
    "    print(\"No previous mount found, moving forward...\")\n",
    "\n",
    "# Mount the Bronze container securely\n",
    "dbutils.fs.mount(\n",
    "    source = \"abfss://bronze@realtimedeai.dfs.core.windows.net/\",\n",
    "    mount_point = \"/mnt/realtimedeai/bronze\",\n",
    "    extra_configs = configs\n",
    ")\n",
    "\n"
   ]
  },
  {
   "cell_type": "code",
   "execution_count": 0,
   "metadata": {
    "application/vnd.databricks.v1+cell": {
     "cellMetadata": {
      "byteLimit": 2048000,
      "rowLimit": 10000
     },
     "inputWidgets": {},
     "nuid": "9f34eecb-202d-4dda-9d09-8e8167276635",
     "showTitle": false,
     "tableResultSettingsMap": {},
     "title": ""
    }
   },
   "outputs": [],
   "source": [
    "\n",
    "# Mount Silver Container (Secure OAuth)\n",
    "\n",
    "try:\n",
    "    dbutils.fs.unmount(\"/mnt/realtimedeai/silver\")\n",
    "except:\n",
    "    print(\"No previous Silver mount found, moving forward...\")\n",
    "\n",
    "dbutils.fs.mount(\n",
    "    source = \"abfss://silver@realtimedeai.dfs.core.windows.net/\",\n",
    "    mount_point = \"/mnt/realtimedeai/silver\",\n",
    "    extra_configs = configs\n",
    ")\n",
    "\n",
    "print(\"Silver container mounted successfully!\")\n"
   ]
  },
  {
   "cell_type": "code",
   "execution_count": 0,
   "metadata": {
    "application/vnd.databricks.v1+cell": {
     "cellMetadata": {
      "byteLimit": 2048000,
      "rowLimit": 10000
     },
     "inputWidgets": {},
     "nuid": "0e18a7b7-56cb-4129-9b47-aa1d52e38c59",
     "showTitle": false,
     "tableResultSettingsMap": {},
     "title": ""
    }
   },
   "outputs": [],
   "source": [
    "# Mount Silver Container (Secure OAuth)\n",
    "\n",
    "try:\n",
    "    dbutils.fs.unmount(\"/mnt/realtimedeai/gold\")\n",
    "except:\n",
    "    print(\"No previous Gold mount found, moving forward...\")\n",
    "\n",
    "\n",
    "dbutils.fs.mount(\n",
    "    source = \"abfss://gold@realtimedeai.dfs.core.windows.net/\",\n",
    "    mount_point = \"/mnt/realtimedeai/gold\",\n",
    "    extra_configs = configs\n",
    ")\n",
    "\n",
    "print(\"Gold container mounted successfully!\")"
   ]
  }
 ],
 "metadata": {
  "application/vnd.databricks.v1+notebook": {
   "computePreferences": null,
   "dashboards": [],
   "environmentMetadata": {
    "base_environment": "",
    "environment_version": "2"
   },
   "inputWidgetPreferences": null,
   "language": "python",
   "notebookMetadata": {
    "pythonIndentUnit": 4
   },
   "notebookName": "01_env_config",
   "widgets": {}
  },
  "language_info": {
   "name": "python"
  }
 },
 "nbformat": 4,
 "nbformat_minor": 0
}
