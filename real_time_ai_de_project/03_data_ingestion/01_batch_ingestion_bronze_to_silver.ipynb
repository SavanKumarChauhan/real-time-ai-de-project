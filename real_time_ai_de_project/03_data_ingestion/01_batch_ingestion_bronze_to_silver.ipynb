{
 "cells": [
  {
   "cell_type": "code",
   "execution_count": 0,
   "metadata": {
    "application/vnd.databricks.v1+cell": {
     "cellMetadata": {
      "byteLimit": 2048000,
      "rowLimit": 10000
     },
     "inputWidgets": {},
     "nuid": "21c6e8fd-cd8b-40c8-805a-fe27256c3929",
     "showTitle": false,
     "tableResultSettingsMap": {},
     "title": ""
    }
   },
   "outputs": [],
   "source": [
    "# Define Bronze and Silver paths for Batch Ingestion\n",
    "bronze_batch_path = \"/mnt/realtimedeai/bronze/batch/\"\n",
    "silver_output_path = \"/mnt/realtimedeai/silver/batch/\"\n"
   ]
  },
  {
   "cell_type": "code",
   "execution_count": 0,
   "metadata": {
    "application/vnd.databricks.v1+cell": {
     "cellMetadata": {
      "byteLimit": 2048000,
      "rowLimit": 10000
     },
     "inputWidgets": {},
     "nuid": "9bb085d0-8eca-4437-8654-6f55a7239f2e",
     "showTitle": false,
     "tableResultSettingsMap": {},
     "title": ""
    }
   },
   "outputs": [],
   "source": [
    "from pyspark.sql.types import StructType, StructField, IntegerType, StringType, DoubleType, LongType\n",
    "from pyspark.sql.functions import col, current_timestamp, to_timestamp"
   ]
  },
  {
   "cell_type": "code",
   "execution_count": 0,
   "metadata": {
    "application/vnd.databricks.v1+cell": {
     "cellMetadata": {
      "byteLimit": 2048000,
      "rowLimit": 10000
     },
     "inputWidgets": {},
     "nuid": "8625d841-ce08-4311-aad7-1b9b23e86f4a",
     "showTitle": false,
     "tableResultSettingsMap": {},
     "title": ""
    }
   },
   "outputs": [],
   "source": [
    "\n",
    "\n",
    "\n",
    "# Explicit schema definition for products table\n",
    "products_schema = StructType([\n",
    "    StructField(\"product_id\", LongType(), False),      \n",
    "    StructField(\"product_name\", StringType(), False),     \n",
    "    StructField(\"category\", StringType(), True),          \n",
    "    StructField(\"base_price\", DoubleType(), False),\n",
    "    StructField(\"stock\", LongType(), False)           \n",
    "])\n",
    "\n",
    "\n"
   ]
  },
  {
   "cell_type": "code",
   "execution_count": 0,
   "metadata": {
    "application/vnd.databricks.v1+cell": {
     "cellMetadata": {
      "byteLimit": 2048000,
      "rowLimit": 10000
     },
     "inputWidgets": {},
     "nuid": "9d202c0e-4780-4bd6-a50d-8980e77c9004",
     "showTitle": false,
     "tableResultSettingsMap": {},
     "title": ""
    }
   },
   "outputs": [],
   "source": [
    "\n",
    "#Read Products Data from Bronze\n",
    "bronze_products_path = bronze_batch_path + \"products/\"\n",
    "\n",
    "products_df = (\n",
    "    spark.read\n",
    "    .format(\"parquet\")\n",
    "    .schema(products_schema)\n",
    "    .load(bronze_products_path)\n",
    ")\n",
    "display(products_df)\n",
    "print(\"Products data loaded successfully from Bronze.\")\n"
   ]
  },
  {
   "cell_type": "code",
   "execution_count": 0,
   "metadata": {
    "application/vnd.databricks.v1+cell": {
     "cellMetadata": {
      "byteLimit": 2048000,
      "rowLimit": 10000
     },
     "inputWidgets": {},
     "nuid": "bec15bd2-40d8-43da-9774-62322e49ad0d",
     "showTitle": false,
     "tableResultSettingsMap": {},
     "title": ""
    }
   },
   "outputs": [],
   "source": [
    "\n",
    "\n",
    "# Remove duplicates based on product_id (keeping the first occurrence)\n",
    "products_deduped_df = products_df.dropDuplicates([\"product_id\"])\n",
    "\n",
    "print(\"Duplicates removed successfully!\")\n",
    "\n",
    "\n",
    "# Filter out invalid rows where base_price or stock is negative\n",
    "products_filtered_df = (\n",
    "    products_deduped_df\n",
    "    .filter(\n",
    "        (col(\"base_price\") > 0) &\n",
    "        (col(\"stock\") >= 0)\n",
    "    )\n",
    ")\n",
    "\n",
    "print(\"Invalid rows removed (no negative prices or stock)!\")\n",
    "\n",
    "\n",
    "\n",
    "# Add processed_time column\n",
    "products_ready_df = products_filtered_df.withColumn(\"processed_time\", current_timestamp())\n",
    "\n",
    "print(\"processed_time added successfully!\")\n",
    "display(products_ready_df)\n",
    "\n",
    "\n"
   ]
  },
  {
   "cell_type": "code",
   "execution_count": 0,
   "metadata": {
    "application/vnd.databricks.v1+cell": {
     "cellMetadata": {
      "byteLimit": 2048000,
      "rowLimit": 10000
     },
     "inputWidgets": {},
     "nuid": "2e27cb28-c370-45b9-b72c-4f05d186d10c",
     "showTitle": false,
     "tableResultSettingsMap": {},
     "title": ""
    }
   },
   "outputs": [],
   "source": [
    "# Define the Silver output path for products\n",
    "products_silver_output_path = silver_output_path + \"products\"\n",
    "\n",
    "# Write the transformed Products data into Silver layer (Delta format)\n",
    "(\n",
    "    products_ready_df\n",
    "    .write\n",
    "    .format(\"delta\")                  \n",
    "    .mode(\"overwrite\")              \n",
    "    .save(products_silver_output_path)\n",
    ")\n",
    "\n",
    "print(\"Products batch data successfully written to the Silver layer in Delta format!\")\n"
   ]
  },
  {
   "cell_type": "code",
   "execution_count": 0,
   "metadata": {
    "application/vnd.databricks.v1+cell": {
     "cellMetadata": {
      "byteLimit": 2048000,
      "rowLimit": 10000
     },
     "inputWidgets": {},
     "nuid": "71ced12d-a8ca-4c85-abeb-d26cef232735",
     "showTitle": false,
     "tableResultSettingsMap": {},
     "title": ""
    }
   },
   "outputs": [],
   "source": [
    "# Explicit schema definition for stores table\n",
    "stores_schema = StructType([\n",
    "    StructField(\"store_id\", LongType(), False),         \n",
    "    StructField(\"store_name\", StringType(), False),     \n",
    "    StructField(\"region\", StringType(), True),\n",
    "    StructField(\"city\", StringType(), True),             \n",
    "    StructField(\"size\", StringType(), True)             \n",
    "     \n",
    "])"
   ]
  },
  {
   "cell_type": "code",
   "execution_count": 0,
   "metadata": {
    "application/vnd.databricks.v1+cell": {
     "cellMetadata": {
      "byteLimit": 2048000,
      "rowLimit": 10000
     },
     "inputWidgets": {},
     "nuid": "c3091b86-015c-4962-90db-775230b0db41",
     "showTitle": false,
     "tableResultSettingsMap": {},
     "title": ""
    }
   },
   "outputs": [],
   "source": [
    "# Bronze path for stores batch data\n",
    "bronze_stores_path = bronze_batch_path +\"stores\"\n",
    "\n",
    "# Read stores data from Bronze with schema enforcement\n",
    "stores_df = (\n",
    "    spark.read\n",
    "    .format(\"parquet\")\n",
    "    .schema(stores_schema)\n",
    "    .load(bronze_stores_path)\n",
    ")\n",
    "\n",
    "stores_df.printSchema()\n",
    "print(\"Stores data loaded successfully with schema enforcement!\")\n"
   ]
  },
  {
   "cell_type": "code",
   "execution_count": 0,
   "metadata": {
    "application/vnd.databricks.v1+cell": {
     "cellMetadata": {
      "byteLimit": 2048000,
      "rowLimit": 10000
     },
     "inputWidgets": {},
     "nuid": "830c1347-a872-4127-9705-8d3cc8d20919",
     "showTitle": false,
     "tableResultSettingsMap": {},
     "title": ""
    }
   },
   "outputs": [],
   "source": [
    "\n",
    "\n",
    "# Remove duplicates based on store_id\n",
    "stores_deduped_df = stores_df.dropDuplicates([\"store_id\"])\n",
    "\n",
    "print(\"Duplicates removed successfully from stores data!\")\n",
    "\n",
    "\n",
    "# Filter out rows where store_id or store_name is null\n",
    "stores_filtered_df = (\n",
    "    stores_deduped_df\n",
    "    .filter(\n",
    "        (col(\"store_id\").isNotNull()) &\n",
    "        (col(\"store_name\").isNotNull())\n",
    "    )\n",
    ")\n",
    "\n",
    "print(\"Null rows removed successfully from stores!\")\n",
    "\n",
    "\n",
    "\n",
    "\n",
    "# Add processed_time column\n",
    "stores_ready_df = stores_filtered_df.withColumn(\"processed_time\", current_timestamp())\n",
    "\n",
    "print(\"processed_time added successfully to stores data!\")\n",
    "display(stores_ready_df)\n",
    "\n"
   ]
  },
  {
   "cell_type": "code",
   "execution_count": 0,
   "metadata": {
    "application/vnd.databricks.v1+cell": {
     "cellMetadata": {
      "byteLimit": 2048000,
      "rowLimit": 10000
     },
     "inputWidgets": {},
     "nuid": "3e543ffd-3a07-4285-a4ed-a4224357319e",
     "showTitle": false,
     "tableResultSettingsMap": {},
     "title": ""
    }
   },
   "outputs": [],
   "source": [
    "\n",
    "# Write Transformed Stores Data to Silver (Delta Format)\n",
    "\n",
    "\n",
    "# Define Silver output path for stores\n",
    "stores_silver_output_path = silver_output_path + \"stores\"\n",
    "\n",
    "# Write to Silver (Delta)\n",
    "(\n",
    "    stores_ready_df\n",
    "    .write\n",
    "    .format(\"delta\")\n",
    "    .mode(\"overwrite\")                  \n",
    "    .save(stores_silver_output_path)\n",
    ")\n",
    "\n",
    "print(\"Stores batch data written successfully to the Silver layer!\")\n"
   ]
  },
  {
   "cell_type": "code",
   "execution_count": 0,
   "metadata": {
    "application/vnd.databricks.v1+cell": {
     "cellMetadata": {
      "byteLimit": 2048000,
      "rowLimit": 10000
     },
     "inputWidgets": {},
     "nuid": "43fd535d-5663-4aae-a747-1dddab462f58",
     "showTitle": false,
     "tableResultSettingsMap": {},
     "title": ""
    }
   },
   "outputs": [],
   "source": [
    "\n",
    "promotions_schema = StructType([\n",
    "    StructField(\"promo_id\", LongType(), False),              \n",
    "    StructField(\"product_id\", LongType(), False),             \n",
    "    StructField(\"discount_percent\", LongType(), False),       \n",
    "    StructField(\"start_date\", StringType(), False),           \n",
    "    StructField(\"end_date\", StringType(), False)              \n",
    "])\n"
   ]
  },
  {
   "cell_type": "code",
   "execution_count": 0,
   "metadata": {
    "application/vnd.databricks.v1+cell": {
     "cellMetadata": {
      "byteLimit": 2048000,
      "rowLimit": 10000
     },
     "inputWidgets": {},
     "nuid": "c71da41a-b126-4d1e-9419-08b281f6ad30",
     "showTitle": false,
     "tableResultSettingsMap": {},
     "title": ""
    }
   },
   "outputs": [],
   "source": [
    "# Read promotion data from Bronze\n",
    "bronze_promotions_path = bronze_batch_path + \"promotions\"\n",
    "\n",
    "\n",
    "promotions_df = (\n",
    "    spark.read\n",
    "    .format(\"parquet\")\n",
    "    .schema(promotions_schema)\n",
    "    .load(bronze_promotions_path)\n",
    ")\n",
    "\n",
    "promotions_df.printSchema()\n",
    "print(\"Promotion data loaded successfully with schema enforcement!\")\n"
   ]
  },
  {
   "cell_type": "code",
   "execution_count": 0,
   "metadata": {
    "application/vnd.databricks.v1+cell": {
     "cellMetadata": {
      "byteLimit": 2048000,
      "rowLimit": 10000
     },
     "inputWidgets": {},
     "nuid": "018fcc03-c912-4d65-ab6d-c583fb2b0281",
     "showTitle": false,
     "tableResultSettingsMap": {},
     "title": ""
    }
   },
   "outputs": [],
   "source": [
    "\n",
    "promotions_deduped_df = promotions_df.dropDuplicates([\"promo_id\"])\n",
    "\n",
    "\n",
    "promotions_filtered_df = (\n",
    "    promotions_deduped_df\n",
    "    .filter(\n",
    "        (col(\"promo_id\").isNotNull()) &\n",
    "        (col(\"product_id\").isNotNull()) &\n",
    "        (col(\"discount_percent\").isNotNull()) &\n",
    "        (col(\"start_date\").isNotNull()) &\n",
    "        (col(\"end_date\").isNotNull())\n",
    "    )\n",
    ")\n",
    "\n",
    "\n",
    "promotions_cleaned_df = promotions_filtered_df.filter(col(\"discount_percent\") >= 0)\n",
    "\n",
    "\n",
    "promotions_ready_df = promotions_cleaned_df.withColumn(\"processed_time\", current_timestamp())\n",
    "\n",
    "print(\"Promotions data transformed successfully!\")\n",
    "display(promotions_ready_df)\n"
   ]
  },
  {
   "cell_type": "code",
   "execution_count": 0,
   "metadata": {
    "application/vnd.databricks.v1+cell": {
     "cellMetadata": {
      "byteLimit": 2048000,
      "rowLimit": 10000
     },
     "inputWidgets": {},
     "nuid": "ac7ab807-cc3e-40fe-ae28-37a0fdeacce3",
     "showTitle": false,
     "tableResultSettingsMap": {},
     "title": ""
    }
   },
   "outputs": [],
   "source": [
    "\n",
    "# Write Transformed Stores Data to Silver (Delta Format)\n",
    "\n",
    "\n",
    "# Define Silver output path for stores\n",
    "promotions_silver_output_path = silver_output_path +\"promotions\"\n",
    "\n",
    "# Write to Silver (Delta)\n",
    "(\n",
    "    promotions_ready_df\n",
    "    .write\n",
    "    .format(\"delta\")\n",
    "    .mode(\"overwrite\")                  \n",
    "    .save(promotions_silver_output_path)\n",
    ")\n",
    "\n",
    "print(\"Promotions batch data written successfully to the Silver layer!\")\n"
   ]
  },
  {
   "cell_type": "code",
   "execution_count": 0,
   "metadata": {
    "application/vnd.databricks.v1+cell": {
     "cellMetadata": {
      "byteLimit": 2048000,
      "rowLimit": 10000
     },
     "inputWidgets": {},
     "nuid": "fe91fbfb-7a54-482f-8c70-bea3913018f9",
     "showTitle": false,
     "tableResultSettingsMap": {},
     "title": ""
    }
   },
   "outputs": [],
   "source": [
    "\n",
    "\n",
    "# Sales Transactions Table Schema\n",
    "sales_transactions_schema = StructType([\n",
    "    StructField(\"transaction_id\", LongType(), False),         \n",
    "    StructField(\"product_id\", DoubleType(), False),           # FK to products table\n",
    "    StructField(\"store_id\", DoubleType(), False),             # FK to stores table\n",
    "    StructField(\"quantity\", LongType(), False),               # Cannot be null, must be > 0\n",
    "    StructField(\"price\", DoubleType(), False),                # Price of the item sold, cannot be null\n",
    "    StructField(\"total_amount\", DoubleType(), False),         # Should equal quantity * price\n",
    "    StructField(\"timestamp\", StringType(), False)             # Transaction timestamp (string → to be casted)\n",
    "])\n"
   ]
  },
  {
   "cell_type": "code",
   "execution_count": 0,
   "metadata": {
    "application/vnd.databricks.v1+cell": {
     "cellMetadata": {
      "byteLimit": 2048000,
      "rowLimit": 10000
     },
     "inputWidgets": {},
     "nuid": "e8d3f45b-4fd3-4ff7-b5fc-6fcc0c5c4856",
     "showTitle": false,
     "tableResultSettingsMap": {},
     "title": ""
    }
   },
   "outputs": [],
   "source": [
    "# Read sales_transctions data from Bronze\n",
    "bronze_sales_transactions_path = bronze_batch_path + \"sales_transactions\"\n",
    "\n",
    "\n",
    "sales_transactions_df = (\n",
    "    spark.read\n",
    "    .format(\"parquet\")\n",
    "    .schema(sales_transactions_schema)\n",
    "    .load(bronze_sales_transactions_path)\n",
    ")\n",
    "\n",
    "sales_transactions_df.printSchema()\n",
    "print(\"sales_transactions data loaded successfully with schema enforcement!\")\n"
   ]
  },
  {
   "cell_type": "code",
   "execution_count": 0,
   "metadata": {
    "application/vnd.databricks.v1+cell": {
     "cellMetadata": {
      "byteLimit": 2048000,
      "rowLimit": 10000
     },
     "inputWidgets": {},
     "nuid": "5a1463b7-1cb7-44de-8f27-3dc37bd53cc9",
     "showTitle": false,
     "tableResultSettingsMap": {},
     "title": ""
    }
   },
   "outputs": [],
   "source": [
    "\n",
    "\n",
    "# Deduplicate by transaction_id\n",
    "sales_deduped_df = sales_transactions_df.dropDuplicates([\"transaction_id\"])\n",
    "\n",
    "#  Null Handling\n",
    "sales_filtered_df = (\n",
    "    sales_deduped_df\n",
    "    .filter(\n",
    "        (col(\"transaction_id\").isNotNull()) &\n",
    "        (col(\"product_id\").isNotNull()) &\n",
    "        (col(\"store_id\").isNotNull()) &\n",
    "        (col(\"quantity\").isNotNull()) &\n",
    "        (col(\"price\").isNotNull()) &\n",
    "        (col(\"total_amount\").isNotNull()) &\n",
    "        (col(\"timestamp\").isNotNull())\n",
    "    )\n",
    ")\n",
    "\n",
    "# Filter out invalid data \n",
    "sales_valid_df = (\n",
    "    sales_filtered_df\n",
    "    .filter(\n",
    "        (col(\"quantity\") > 0) &\n",
    "        (col(\"price\") > 0) &\n",
    "        (col(\"total_amount\") > 0)\n",
    "    )\n",
    ")\n",
    "\n",
    "# Cast timestamp to proper TimestampType\n",
    "sales_timecasted_df = sales_valid_df.withColumn(\n",
    "    \"transaction_time\", to_timestamp(col(\"timestamp\"), \"yyyy-MM-dd HH:mm:ss\")\n",
    ").drop(\"timestamp\")\n",
    "\n",
    "\n",
    "\n",
    "# Add processed_time column (for audit)\n",
    "sales_ready_df = sales_timecasted_df.withColumn(\"processed_time\", current_timestamp())\n",
    "\n",
    "print(\"Sales transactions data transformed successfully!\")\n",
    "\n"
   ]
  },
  {
   "cell_type": "code",
   "execution_count": 0,
   "metadata": {
    "application/vnd.databricks.v1+cell": {
     "cellMetadata": {
      "byteLimit": 2048000,
      "rowLimit": 10000
     },
     "inputWidgets": {},
     "nuid": "e3baed2d-62b2-4be4-b13f-207c55c1815b",
     "showTitle": false,
     "tableResultSettingsMap": {},
     "title": ""
    }
   },
   "outputs": [],
   "source": [
    "\n",
    "# Write Transformed sales_transactions Data to Silver (Delta Format)\n",
    "\n",
    "\n",
    "# Define Silver output path for stores\n",
    "sales_transactions_silver_output_path = silver_output_path +\"sales_transactions\"\n",
    "\n",
    "# Write to Silver (Delta)\n",
    "(\n",
    "    sales_ready_df\n",
    "    .write\n",
    "    .format(\"delta\")\n",
    "    .mode(\"overwrite\")                  \n",
    "    .save(sales_transactions_silver_output_path)\n",
    ")\n",
    "\n",
    "print(\"Sales_transactions batch data written successfully to the Silver layer!\")\n"
   ]
  }
 ],
 "metadata": {
  "application/vnd.databricks.v1+notebook": {
   "computePreferences": null,
   "dashboards": [],
   "environmentMetadata": {
    "base_environment": "",
    "environment_version": "2"
   },
   "inputWidgetPreferences": null,
   "language": "python",
   "notebookMetadata": {
    "pythonIndentUnit": 4
   },
   "notebookName": "01_batch_ingestion_bronze_to_silver",
   "widgets": {}
  },
  "language_info": {
   "name": "python"
  }
 },
 "nbformat": 4,
 "nbformat_minor": 0
}
