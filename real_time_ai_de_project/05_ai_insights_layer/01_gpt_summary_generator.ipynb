{
 "cells": [
  {
   "cell_type": "code",
   "execution_count": 0,
   "metadata": {
    "application/vnd.databricks.v1+cell": {
     "cellMetadata": {
      "byteLimit": 2048000,
      "rowLimit": 10000
     },
     "inputWidgets": {},
     "nuid": "107ff874-02d9-4d15-b0f1-5bfc6d8455f9",
     "showTitle": false,
     "tableResultSettingsMap": {},
     "title": ""
    }
   },
   "outputs": [],
   "source": [
    "\n",
    "# Load OpenAI API Key from Secret Scope\n",
    "\n",
    "openai_api_key = dbutils.secrets.get(scope=\"adls_scope\", key=\"open-ai-api-key\")\n",
    "print(\"API key loaded successfully.\")\n"
   ]
  },
  {
   "cell_type": "code",
   "execution_count": 0,
   "metadata": {
    "application/vnd.databricks.v1+cell": {
     "cellMetadata": {
      "byteLimit": 2048000,
      "rowLimit": 10000
     },
     "inputWidgets": {},
     "nuid": "e0b0a6e8-f599-45d6-a05d-5ce4e8a74c60",
     "showTitle": false,
     "tableResultSettingsMap": {},
     "title": ""
    }
   },
   "outputs": [],
   "source": [
    "# Read Parameters from Job Config\n",
    "store_id = spark.conf.get(\"spark.store_id\", \"\")\n",
    "category = spark.conf.get(\"spark.category\", \"\")\n",
    "\n",
    "print(f\"Parameters → store_id: '{store_id}', category: '{category}'\")"
   ]
  },
  {
   "cell_type": "code",
   "execution_count": 0,
   "metadata": {
    "application/vnd.databricks.v1+cell": {
     "cellMetadata": {
      "byteLimit": 2048000,
      "rowLimit": 10000
     },
     "inputWidgets": {},
     "nuid": "615691c2-8caa-4adc-88dd-387ffafe9af9",
     "showTitle": false,
     "tableResultSettingsMap": {},
     "title": ""
    }
   },
   "outputs": [],
   "source": [
    "# Build Dynamic SQL Based on Parameters\n",
    "\n",
    "base_query = \"\"\"\n",
    "    SELECT store_id, category, product_name, SUM(sale_amount) AS total_sales\n",
    "    FROM vw_sales_transaction_summary\n",
    "\"\"\"\n",
    "\n",
    "where_clauses = []\n",
    "if store_id:\n",
    "    where_clauses.append(f\"store_id = {int(store_id)}\")\n",
    "if category:\n",
    "    where_clauses.append(f\"category = '{category}'\")\n",
    "\n",
    "if where_clauses:\n",
    "    base_query += \"WHERE \" + \" AND \".join(where_clauses) + \"\\n\"\n",
    "\n",
    "base_query += \"GROUP BY store_id, category, product_name\\nORDER BY store_id, category\"\n",
    "\n",
    "gold_df = spark.sql(base_query)\n",
    "display(gold_df)"
   ]
  },
  {
   "cell_type": "code",
   "execution_count": 0,
   "metadata": {
    "application/vnd.databricks.v1+cell": {
     "cellMetadata": {
      "byteLimit": 2048000,
      "rowLimit": 10000
     },
     "inputWidgets": {},
     "nuid": "a7152b31-54f9-47ca-b41e-b858781eb692",
     "showTitle": false,
     "tableResultSettingsMap": {},
     "title": ""
    }
   },
   "outputs": [],
   "source": [
    "\n",
    "%pip install tabulate\n",
    "%pip install requests\n"
   ]
  },
  {
   "cell_type": "code",
   "execution_count": 0,
   "metadata": {
    "application/vnd.databricks.v1+cell": {
     "cellMetadata": {
      "byteLimit": 2048000,
      "rowLimit": 10000
     },
     "inputWidgets": {},
     "nuid": "a9bbdbee-fa10-45b4-9d9f-8d95ff65c0fa",
     "showTitle": false,
     "tableResultSettingsMap": {},
     "title": ""
    }
   },
   "outputs": [],
   "source": [
    "\n",
    "# Convert Data to Tabular Format\n",
    "import pandas as pd\n",
    "import requests\n",
    "import json\n",
    "from tabulate import tabulate\n",
    "\n",
    "gold_pd_df = gold_df.toPandas()\n",
    "table_summary = tabulate(gold_pd_df, headers=\"keys\", tablefmt=\"pipe\", showindex=False)\n",
    "\n",
    "# Generate GPT Prompt\n",
    "prompt = f\"\"\"\n",
    "You are a helpful AI assistant. Summarize the key sales trends from the following table.\n",
    "Focus on high-performing products by store and category.\n",
    "\n",
    "{table_summary}\n",
    "\"\"\"\n",
    "\n",
    "# Send Request to OpenAI\n",
    "api_url = \"https://api.openai.com/v1/chat/completions\"\n",
    "headers = {\n",
    "    \"Content-Type\": \"application/json\",\n",
    "    \"Authorization\": f\"Bearer {openai_api_key}\"\n",
    "}\n",
    "\n",
    "body = {\n",
    "    \"model\": \"gpt-3.5-turbo\",\n",
    "    \"messages\": [\n",
    "        {\"role\": \"system\", \"content\": \"You are a data analyst assistant.\"},\n",
    "        {\"role\": \"user\", \"content\": prompt}\n",
    "    ],\n",
    "    \"temperature\": 0.3\n",
    "}\n",
    "\n",
    "response = requests.post(api_url, headers=headers, data=json.dumps(body))\n",
    "\n",
    "# Show Summary\n",
    "if response.status_code == 200:\n",
    "    summary = response.json()[\"choices\"][0][\"message\"][\"content\"]\n",
    "    print(\"\\nGPT-Generated Summary:\\n\")\n",
    "    print(summary)\n",
    "else:\n",
    "    print(\"Error:\", response.status_code, response.text)\n"
   ]
  },
  {
   "cell_type": "code",
   "execution_count": 0,
   "metadata": {
    "application/vnd.databricks.v1+cell": {
     "cellMetadata": {
      "byteLimit": 2048000,
      "rowLimit": 10000
     },
     "inputWidgets": {},
     "nuid": "9eab0bc7-1187-40a4-b333-91f7cd5c2b96",
     "showTitle": false,
     "tableResultSettingsMap": {},
     "title": ""
    }
   },
   "outputs": [],
   "source": [
    "# Create the schema if it does not exist\n",
    "spark.sql(\"CREATE SCHEMA IF NOT EXISTS gold\")"
   ]
  },
  {
   "cell_type": "code",
   "execution_count": 0,
   "metadata": {
    "application/vnd.databricks.v1+cell": {
     "cellMetadata": {
      "byteLimit": 2048000,
      "rowLimit": 10000
     },
     "inputWidgets": {},
     "nuid": "a82c0d4c-e048-4db8-b09e-edcae456c14c",
     "showTitle": false,
     "tableResultSettingsMap": {},
     "title": ""
    }
   },
   "outputs": [],
   "source": [
    "from pyspark.sql.functions import lit, current_timestamp\n",
    "\n",
    "# Save GPT result into a table for dashboard\n",
    "summary_df = spark.createDataFrame([(summary,)], [\"gpt_summary\"]) \\\n",
    "                  .withColumn(\"timestamp\", current_timestamp())\n",
    "\n",
    "summary_df.write.format(\"delta\") \\\n",
    "    .mode(\"overwrite\") \\\n",
    "    .saveAsTable(\"gold.gpt_sales_summary\")\n"
   ]
  }
 ],
 "metadata": {
  "application/vnd.databricks.v1+notebook": {
   "computePreferences": null,
   "dashboards": [],
   "environmentMetadata": {
    "base_environment": "",
    "environment_version": "2"
   },
   "inputWidgetPreferences": null,
   "language": "python",
   "notebookMetadata": {
    "mostRecentlyExecutedCommandWithImplicitDF": {
     "commandId": 4612466151084333,
     "dataframes": [
      "_sqldf"
     ]
    },
    "pythonIndentUnit": 4
   },
   "notebookName": "01_gpt_summary_generator",
   "widgets": {
    "category": {
     "currentValue": "Grocery",
     "nuid": "bc9e2792-d6d8-45bb-938d-b893feb0d26e",
     "typedWidgetInfo": {
      "autoCreated": false,
      "defaultValue": "",
      "label": "Enter Category (optional)",
      "name": "category",
      "options": {
       "widgetDisplayType": "Text",
       "validationRegex": null
      },
      "parameterDataType": "String"
     },
     "widgetInfo": {
      "widgetType": "text",
      "defaultValue": "",
      "label": "Enter Category (optional)",
      "name": "category",
      "options": {
       "widgetType": "text",
       "autoCreated": null,
       "validationRegex": null
      }
     }
    },
    "store_id": {
     "currentValue": "",
     "nuid": "02eb5a67-3ed0-4b4f-bf09-5efae09f776e",
     "typedWidgetInfo": {
      "autoCreated": false,
      "defaultValue": "",
      "label": "Enter Store ID (optional)",
      "name": "store_id",
      "options": {
       "widgetDisplayType": "Text",
       "validationRegex": null
      },
      "parameterDataType": "String"
     },
     "widgetInfo": {
      "widgetType": "text",
      "defaultValue": "",
      "label": "Enter Store ID (optional)",
      "name": "store_id",
      "options": {
       "widgetType": "text",
       "autoCreated": false,
       "validationRegex": null
      }
     }
    }
   }
  },
  "language_info": {
   "name": "python"
  }
 },
 "nbformat": 4,
 "nbformat_minor": 0
}
